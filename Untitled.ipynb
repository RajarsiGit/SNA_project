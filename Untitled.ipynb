{
 "cells": [
  {
   "cell_type": "code",
   "execution_count": 133,
   "metadata": {},
   "outputs": [],
   "source": [
    "import pandas as pd\n",
    "import numpy as np\n",
    "import datetime\n",
    "covid_data = pd.read_csv('complete.csv')"
   ]
  },
  {
   "cell_type": "code",
   "execution_count": 134,
   "metadata": {},
   "outputs": [],
   "source": [
    "df = pd.DataFrame(covid_data)\n",
    "states = df['Name of State / UT'].unique()\n",
    "month_names = ['jan', 'feb', 'mar', 'apr']"
   ]
  },
  {
   "cell_type": "code",
   "execution_count": 135,
   "metadata": {},
   "outputs": [],
   "source": [
    "months = [df[(df['Date'] >= '2020-01-01') & (df['Date'] <= '2020-01-31')], df[(df['Date'] >= '2020-02-01') & (df['Date'] <= '2020-02-29')], df[(df['Date'] >= '2020-03-01') & (df['Date'] <= '2020-03-31')], df[(df['Date'] >= '2020-04-01') & (df['Date'] <= '2020-04-30')]]"
   ]
  },
  {
   "cell_type": "code",
   "execution_count": 136,
   "metadata": {},
   "outputs": [],
   "source": [
    "statewise = pd.DataFrame(columns = df.columns)\n",
    "for month, name in zip(months, month_names):\n",
    "    for state in states:\n",
    "        temp = month[(month['Name of State / UT'] == state)]\n",
    "        statewise = statewise.append(temp[temp['Total Confirmed cases'] == temp['Total Confirmed cases'].max()])\n",
    "    statewise = statewise.drop_duplicates(subset = \"Name of State / UT\", keep = 'last')\n",
    "    statewise.to_csv(str(str(name) + '_output.csv'))"
   ]
  },
  {
   "cell_type": "code",
   "execution_count": 127,
   "metadata": {},
   "outputs": [],
   "source": []
  },
  {
   "cell_type": "code",
   "execution_count": 102,
   "metadata": {},
   "outputs": [],
   "source": []
  },
  {
   "cell_type": "code",
   "execution_count": 104,
   "metadata": {},
   "outputs": [],
   "source": []
  },
  {
   "cell_type": "code",
   "execution_count": null,
   "metadata": {},
   "outputs": [],
   "source": []
  }
 ],
 "metadata": {
  "kernelspec": {
   "display_name": "Python 3",
   "language": "python",
   "name": "python3"
  },
  "language_info": {
   "codemirror_mode": {
    "name": "ipython",
    "version": 3
   },
   "file_extension": ".py",
   "mimetype": "text/x-python",
   "name": "python",
   "nbconvert_exporter": "python",
   "pygments_lexer": "ipython3",
   "version": "3.8.1"
  }
 },
 "nbformat": 4,
 "nbformat_minor": 2
}
