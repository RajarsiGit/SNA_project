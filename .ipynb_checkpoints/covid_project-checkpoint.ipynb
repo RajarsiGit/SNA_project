{
 "cells": [
  {
   "cell_type": "code",
   "execution_count": 99,
   "metadata": {},
   "outputs": [],
   "source": [
    "import pandas as pd\n",
    "import numpy as np\n",
    "import datetime\n",
    "covid_data = pd.read_csv('complete.csv')"
   ]
  },
  {
   "cell_type": "code",
   "execution_count": 100,
   "metadata": {},
   "outputs": [
    {
     "data": {
      "text/plain": [
       "numpy.ndarray"
      ]
     },
     "execution_count": 100,
     "metadata": {},
     "output_type": "execute_result"
    }
   ],
   "source": [
    "df = pd.DataFrame(covid_data)\n",
    "states = df['Name of State / UT'].unique()\n",
    "np.savetxt(\"foo.csv\", [states], delimiter=',', fmt='%s')\n",
    "month_names = ['jan_1', 'jan_2', 'feb_1', 'feb_2', 'mar_1', 'mar_2', 'apr_1', 'apr_2']\n",
    "type(states)"
   ]
  },
  {
   "cell_type": "code",
   "execution_count": 101,
   "metadata": {},
   "outputs": [],
   "source": [
    "months = list()\n",
    "months.append(df[(df['Date'] >= '2020-01-01') & (df['Date'] <= '2020-01-15')])\n",
    "months.append(df[(df['Date'] >= '2020-01-16') & (df['Date'] <= '2020-01-31')])\n",
    "months.append(df[(df['Date'] >= '2020-02-01') & (df['Date'] <= '2020-02-15')])\n",
    "months.append(df[(df['Date'] >= '2020-02-16') & (df['Date'] <= '2020-02-29')])\n",
    "months.append(df[(df['Date'] >= '2020-03-01') & (df['Date'] <= '2020-03-15')])\n",
    "months.append(df[(df['Date'] >= '2020-03-16') & (df['Date'] <= '2020-03-31')])\n",
    "months.append(df[(df['Date'] >= '2020-04-01') & (df['Date'] <= '2020-04-15')])\n",
    "months.append(df[(df['Date'] >= '2020-04-15') & (df['Date'] <= '2020-04-30')])"
   ]
  },
  {
   "cell_type": "code",
   "execution_count": 102,
   "metadata": {},
   "outputs": [],
   "source": [
    "statewise = pd.DataFrame(columns = df.columns)\n",
    "for month, name in zip(months, month_names):\n",
    "    for state in states:\n",
    "        temp = month[(month['Name of State / UT'] == state)]\n",
    "        statewise = statewise.append(temp[temp['Total Confirmed cases'] == temp['Total Confirmed cases'].max()])\n",
    "    statewise = statewise.drop_duplicates(subset = \"Name of State / UT\", keep = 'last')\n",
    "    statewise = statewise[['Name of State / UT', 'Total Confirmed cases']]\n",
    "    statewise.to_csv(str(str(name) + '_output.csv'), index=False)"
   ]
  },
  {
   "cell_type": "code",
   "execution_count": 103,
   "metadata": {},
   "outputs": [],
   "source": [
    "mar_1 = pd.read_csv('mar_1_output.csv')"
   ]
  },
  {
   "cell_type": "code",
   "execution_count": 104,
   "metadata": {},
   "outputs": [],
   "source": [
    "adj = np.zeros((36, 36), dtype=int)"
   ]
  },
  {
   "cell_type": "code",
   "execution_count": 137,
   "metadata": {},
   "outputs": [],
   "source": [
    "arr = np.array(mar_1['Name of State / UT'])\n",
    "for elem in arr:\n",
    "    for i in range(len(states)):\n",
    "        if elem == states[i]:\n",
    "            j = int(np.where(states == elem)[0])\n",
    "            for k in range(j+1):\n",
    "                adj[k][j] = 1\n",
    "                adj[j][k] = 1\n",
    "            break\n",
    "\n",
    "for i in range(36):\n",
    "    if adj[0][i] != 1:\n",
    "        for k in range(i+1):\n",
    "            adj[k][i] = 0\n",
    "            adj[i][k] = 0\n",
    "\n",
    "        \n",
    "np.savetxt(\"adjacency.csv\", adj, delimiter=',', fmt='%s')"
   ]
  },
  {
   "cell_type": "code",
   "execution_count": null,
   "metadata": {},
   "outputs": [],
   "source": []
  },
  {
   "cell_type": "code",
   "execution_count": null,
   "metadata": {},
   "outputs": [],
   "source": []
  }
 ],
 "metadata": {
  "kernelspec": {
   "display_name": "Python 3",
   "language": "python",
   "name": "python3"
  },
  "language_info": {
   "codemirror_mode": {
    "name": "ipython",
    "version": 3
   },
   "file_extension": ".py",
   "mimetype": "text/x-python",
   "name": "python",
   "nbconvert_exporter": "python",
   "pygments_lexer": "ipython3",
   "version": "3.8.1"
  }
 },
 "nbformat": 4,
 "nbformat_minor": 2
}
