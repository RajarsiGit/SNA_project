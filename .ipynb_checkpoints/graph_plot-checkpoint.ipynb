{
 "cells": [
  {
   "cell_type": "code",
   "execution_count": 297,
   "metadata": {},
   "outputs": [],
   "source": [
    "import csv\n",
    "import pandas as pd\n",
    "import numpy as np\n",
    "import networkx as nx\n",
    "import matplotlib.pyplot as plt\n",
    "from sklearn.preprocessing import normalize"
   ]
  },
  {
   "cell_type": "code",
   "execution_count": 278,
   "metadata": {},
   "outputs": [],
   "source": [
    "states = np.genfromtxt('states.csv', delimiter=',', dtype=str)\n",
    "month = \"mar_2\"\n",
    "adjacency = np.genfromtxt(month + '_adjacency.csv',  dtype=str)\n",
    "states = states.tolist()\n",
    "outer_adj = list()\n",
    "for (each, i) in zip(adjacency, range(len(adjacency))):\n",
    "    inner_adj = list()\n",
    "    rec = each.tolist().split(',')\n",
    "    for (col, j) in zip(rec, range(len(rec))):\n",
    "        inner_adj.append(int(col))\n",
    "    outer_adj.append(inner_adj)\n",
    "adj = outer_adj"
   ]
  },
  {
   "cell_type": "code",
   "execution_count": 305,
   "metadata": {},
   "outputs": [
    {
     "name": "stdout",
     "output_type": "stream",
     "text": [
      "234\n"
     ]
    },
    {
     "data": {
      "image/png": "[encoded data removed]",
      "text/plain": [
       "<Figure size 432x288 with 1 Axes>"
      ]
     },
     "metadata": {},
     "output_type": "display_data"
    }
   ],
   "source": [
    "def show_graph_with_labels(adjacency_matrix, mylabels):\n",
    "    max_val = max(max(adjacency_matrix))\n",
    "    adjacency_matrix = adjacency_matrix / max_val\n",
    "    G = nx.from_numpy_matrix(np.array(adjacency_matrix))\n",
    "    nx.draw(G, with_labels=True)\n",
    "    plt.show()\n",
    "show_graph_with_labels(adj, states)"
   ]
  },
  {
   "cell_type": "code",
   "execution_count": null,
   "metadata": {},
   "outputs": [],
   "source": []
  },
  {
   "cell_type": "code",
   "execution_count": null,
   "metadata": {},
   "outputs": [],
   "source": []
  },
  {
   "cell_type": "code",
   "execution_count": null,
   "metadata": {},
   "outputs": [],
   "source": []
  },
  {
   "cell_type": "code",
   "execution_count": null,
   "metadata": {},
   "outputs": [],
   "source": []
  }
 ],
 "metadata": {
  "kernelspec": {
   "display_name": "Python 3",
   "language": "python",
   "name": "python3"
  },
  "language_info": {
   "codemirror_mode": {
    "name": "ipython",
    "version": 3
   },
   "file_extension": ".py",
   "mimetype": "text/x-python",
   "name": "python",
   "nbconvert_exporter": "python",
   "pygments_lexer": "ipython3",
   "version": "3.8.1"
  }
 },
 "nbformat": 4,
 "nbformat_minor": 2
}
