{
 "cells": [
  {
   "cell_type": "code",
   "execution_count": 115,
   "metadata": {},
   "outputs": [],
   "source": [
    "import pandas as pd\n",
    "import numpy as np"
   ]
  },
  {
   "cell_type": "code",
   "execution_count": 128,
   "metadata": {},
   "outputs": [],
   "source": [
    "states = np.genfromtxt('states.csv', delimiter=',', dtype=str)"
   ]
  },
  {
   "cell_type": "code",
   "execution_count": 117,
   "metadata": {},
   "outputs": [],
   "source": [
    "month_names = ['jan_1', 'jan_2', 'feb_1', 'feb_2', 'mar_1', 'mar_2', 'apr_1', 'apr_2']\n",
    "month_inputs = list()\n",
    "for month in month_names:\n",
    "    temp = pd.read_csv(month + '_output.csv')\n",
    "    month_inputs.insert(month_names.index(month), temp)"
   ]
  },
  {
   "cell_type": "code",
   "execution_count": 127,
   "metadata": {},
   "outputs": [],
   "source": [
    "for month in month_names:\n",
    "    adj = np.zeros((len(states), len(states)), dtype=int)\n",
    "    arr = np.array(month_inputs[month_names.index(month)]['Name of State / UT'])\n",
    "    for elem in arr:\n",
    "        for i in range(len(states)):\n",
    "            if elem == states[i]:\n",
    "                j = int(np.where(states == elem)[0])\n",
    "                for k in range(j+1):\n",
    "                    adj[k][j] = month_inputs[month_names.index(month)].iloc[j]['Total Confirmed cases']\n",
    "                    adj[j][k] = month_inputs[month_names.index(month)].iloc[j]['Total Confirmed cases']\n",
    "                break\n",
    "    np.savetxt(month + \"_adjacency.csv\", adj, delimiter=',', fmt='%s')"
   ]
  },
  {
   "cell_type": "code",
   "execution_count": null,
   "metadata": {},
   "outputs": [],
   "source": []
  }
 ],
 "metadata": {
  "kernelspec": {
   "display_name": "Python 3",
   "language": "python",
   "name": "python3"
  },
  "language_info": {
   "codemirror_mode": {
    "name": "ipython",
    "version": 3
   },
   "file_extension": ".py",
   "mimetype": "text/x-python",
   "name": "python",
   "nbconvert_exporter": "python",
   "pygments_lexer": "ipython3",
   "version": "3.8.1"
  }
 },
 "nbformat": 4,
 "nbformat_minor": 2
}
